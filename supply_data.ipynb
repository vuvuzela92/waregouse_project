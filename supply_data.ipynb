{
 "cells": [
  {
   "cell_type": "code",
   "execution_count": 17,
   "id": "0eb0a6f8",
   "metadata": {},
   "outputs": [],
   "source": [
    "import asyncio\n",
    "import aiohttp\n",
    "from utils_warehouse import load_api_tokens\n",
    "from act_utils import create_insert_table_db_async\n",
    "import pandas as pd"
   ]
  },
  {
   "cell_type": "code",
   "execution_count": 18,
   "id": "419dbd15",
   "metadata": {},
   "outputs": [],
   "source": [
    "account = 'Вектор'\n",
    "api_token = load_api_tokens()[account]"
   ]
  },
  {
   "cell_type": "code",
   "execution_count": null,
   "id": "e58dd30b",
   "metadata": {},
   "outputs": [
    {
     "name": "stdout",
     "output_type": "stream",
     "text": [
      "Получены данные о 1000 поставках\n",
      "Получены данные о 2000 поставках\n",
      "Получены данные о 3000 поставках\n",
      "Получены данные о 4000 поставках\n",
      "Получены данные о 5000 поставках\n",
      "Получены данные о 6000 поставках\n",
      "Получены данные о 6298 поставках\n"
     ]
    }
   ],
   "source": [
    "async def get_supplies_list(account, api_token):\n",
    "    # Список поставок\n",
    "    supplies_list_api = []\n",
    "    # Адрес запроса\n",
    "    url = 'https://marketplace-api.wildberries.ru/api/v3/supplies'\n",
    "    headers = {'Authorization': api_token}\n",
    "    # Задержка при 429 ошибке\n",
    "    delay = 0.3\n",
    "    # Максимально количество значений за один запрос\n",
    "    limit = 1000\n",
    "    # Параметр пагинации\n",
    "    next_page = 0\n",
    "    # Количество попыток получить данные по запросу\n",
    "    max_attempts = 10\n",
    "    # Начальное кол-во попыток\n",
    "    attempt = 0\n",
    "    # Создание сессии для асинхронного http запроса\n",
    "    async with aiohttp.ClientSession(headers=headers) as session:\n",
    "        # Цикл из 10 попыток для получения данных\n",
    "        while attempt != max_attempts:\n",
    "            # Параметры запроса\n",
    "            params = {'limit' : limit,\n",
    "                    'next' : next_page}\n",
    "            try:\n",
    "                # Запуск сессии\n",
    "                async with session.get(url, params=params) as res:\n",
    "                    if res.status == 200:\n",
    "                        # Сбрасываем счетчик при успешном запросе\n",
    "                        attempt = 0\n",
    "                        # Асинхронный http запрос\n",
    "                        data = await res.json()\n",
    "                        # Сохраняем результат запроса в переменную, в этом случае нам возвращается список\n",
    "                        supplies = data['supplies']\n",
    "                        # Для каждой поставки сохраняю данные об ЛК\n",
    "                        for supply in supplies:\n",
    "                            supply['account'] = account\n",
    "                        # Добавляю расширенные данные в список\n",
    "                        supplies_list_api.extend(supplies)\n",
    "                        # В случае, если данные о поставках закончились или больше нет данных для дальнейшей пагинации, запросы прекращаются\n",
    "                        if not supplies or data['next'] == 0:\n",
    "                            break\n",
    "                        # Если данные есть, то пагинация продолжается\n",
    "                        else:\n",
    "                            next_page = data['next']\n",
    "                            # Задержка в запросе по требованию АПИ документации\n",
    "                            await asyncio.sleep(delay)\n",
    "                        print(f\"Получены данные о {len(supplies_list_api)} поставках\")\n",
    "                    # Обработка неправильного запроса\n",
    "                    elif res.status == 400:\n",
    "                        # Создаем запрос\n",
    "                        error_data = await res.json()\n",
    "                        # Сохраняем в переменную. Пытаемся получить данные по ключу message. Если такого ключа нет, выведем 'Неправильный запрос'\n",
    "                        error_detail = error_data.get('message', 'Неправильный запрос')\n",
    "                        print(f\"Ошибка 400 для аккаунта {account}: {error_detail}\")\n",
    "                        return None \n",
    "                    # Обработка ошибки авторизации данных \n",
    "                    elif res.status == 401:\n",
    "                        print(f\"Ошибка 401 для аккаунта {account}: Не авторизован\")\n",
    "                        return None\n",
    "                    # Обработка запрета на получение данных\n",
    "                    elif res.status == 403:\n",
    "                        # Создаем запрос\n",
    "                        error_data = await res.json()\n",
    "                        # Сохраняем в переменную. Пытаемся получить данные по ключу message. Если такого ключа нет, выведем 'Неправильный запрос'\n",
    "                        error_detail = error_data.get('message', 'Доступ запрещен')\n",
    "                        print(f\"Ошибка 403 для аккаунта {account}: {error_detail}\")\n",
    "                        return None\n",
    "                    # Обработка лимита запросов\n",
    "                    elif res.status == 429:\n",
    "                        error_data = await res.json()\n",
    "                        error_detail = error_data.get('detail', 'Слишком много запросов')\n",
    "                        print(f\"Ошибка 429 для аккаунта {account}: {error_detail}\")\n",
    "                        print(f\"Лимит: 300 запросов в 1 минуту на аккаунт. ждем {delay}\")\n",
    "                        # Ждем перед повторной попыткой\n",
    "                        await asyncio.sleep(delay) \n",
    "                        attempt += 1\n",
    "                        continue\n",
    "                    else:\n",
    "                        print('Нет данных по поставкам')\n",
    "                        attempt += 1\n",
    "            except aiohttp.ClientError as err:\n",
    "                print(f'Сетевая ошибка {err}')\n",
    "            except Exception as e:\n",
    "                print(f'Неожиданная ошибка {e}')\n",
    "            if attempt == max_attempts:\n",
    "                break\n",
    "    if supplies_list_api:\n",
    "        df = pd.DataFrame(supplies_list_api)\n",
    "        return df\n",
    "    else:\n",
    "        print('Не удалось получить документы')\n",
    "        return None"
   ]
  },
  {
   "cell_type": "code",
   "execution_count": null,
   "id": "bcc33eaa",
   "metadata": {},
   "outputs": [],
   "source": [
    "supplies_list = await get_supplies_list(account, api_token)"
   ]
  }
 ],
 "metadata": {
  "kernelspec": {
   "display_name": "warehouse_venv",
   "language": "python",
   "name": "python3"
  },
  "language_info": {
   "codemirror_mode": {
    "name": "ipython",
    "version": 3
   },
   "file_extension": ".py",
   "mimetype": "text/x-python",
   "name": "python",
   "nbconvert_exporter": "python",
   "pygments_lexer": "ipython3",
   "version": "3.13.3"
  }
 },
 "nbformat": 4,
 "nbformat_minor": 5
}
