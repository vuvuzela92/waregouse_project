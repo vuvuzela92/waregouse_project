{
 "cells": [
  {
   "cell_type": "code",
   "execution_count": 1,
   "id": "54a6f850",
   "metadata": {},
   "outputs": [
    {
     "name": "stdout",
     "output_type": "stream",
     "text": [
      "Получено 0 документов, offset: 0\n"
     ]
    },
    {
     "ename": "CancelledError",
     "evalue": "",
     "output_type": "error",
     "traceback": [
      "\u001b[31m---------------------------------------------------------------------------\u001b[39m",
      "\u001b[31mCancelledError\u001b[39m                            Traceback (most recent call last)",
      "\u001b[36mCell\u001b[39m\u001b[36m \u001b[39m\u001b[32mIn[1]\u001b[39m\u001b[32m, line 4\u001b[39m\n\u001b[32m      1\u001b[39m \u001b[38;5;28;01mfrom\u001b[39;00m\u001b[38;5;250m \u001b[39m\u001b[34;01mact_utils\u001b[39;00m\u001b[38;5;250m \u001b[39m\u001b[38;5;28;01mimport\u001b[39;00m main\n\u001b[32m      3\u001b[39m \u001b[38;5;28;01mif\u001b[39;00m \u001b[34m__name__\u001b[39m == \u001b[33m\"\u001b[39m\u001b[33m__main__\u001b[39m\u001b[33m\"\u001b[39m:\n\u001b[32m----> \u001b[39m\u001b[32m4\u001b[39m     \u001b[38;5;28;01mawait\u001b[39;00m main()\n",
      "\u001b[36mFile \u001b[39m\u001b[32mc:\\Users\\123\\Desktop\\warehouse_service\\acceptance_acts\\act_utils.py:574\u001b[39m, in \u001b[36mmain\u001b[39m\u001b[34m()\u001b[39m\n\u001b[32m    572\u001b[39m \u001b[38;5;250m\u001b[39m\u001b[33;03m\"\"\"Исполняемая функция по получению актов ПП с ВБ\"\"\"\u001b[39;00m\n\u001b[32m    573\u001b[39m \u001b[38;5;66;03m# Получаем данные по актам ФБС/ФБО\u001b[39;00m\n\u001b[32m--> \u001b[39m\u001b[32m574\u001b[39m fbs_df, fbo_df = \u001b[38;5;28;01mawait\u001b[39;00m get_all_fbs_acts_async()\n\u001b[32m    576\u001b[39m \u001b[38;5;66;03m# Обработка FBO данных\u001b[39;00m\n\u001b[32m    577\u001b[39m \u001b[38;5;28;01mif\u001b[39;00m \u001b[38;5;129;01mnot\u001b[39;00m fbo_df.empty:\n",
      "\u001b[36mFile \u001b[39m\u001b[32mc:\\Users\\123\\Desktop\\warehouse_service\\acceptance_acts\\act_utils.py:476\u001b[39m, in \u001b[36mget_all_fbs_acts_async\u001b[39m\u001b[34m()\u001b[39m\n\u001b[32m    473\u001b[39m full_docs = []\n\u001b[32m    475\u001b[39m \u001b[38;5;66;03m# ДОБАВЛЕНО AWAIT - получаем DataFrame с документами\u001b[39;00m\n\u001b[32m--> \u001b[39m\u001b[32m476\u001b[39m acceptance_certificate_df = \u001b[38;5;28;01mawait\u001b[39;00m create_acceptance_certificate_marketplace_async()\n\u001b[32m    478\u001b[39m \u001b[38;5;66;03m# Проверяем, что DataFrame не пустой\u001b[39;00m\n\u001b[32m    479\u001b[39m \u001b[38;5;28;01mif\u001b[39;00m acceptance_certificate_df.empty:\n",
      "\u001b[36mFile \u001b[39m\u001b[32mc:\\Users\\123\\Desktop\\warehouse_service\\acceptance_acts\\act_utils.py:235\u001b[39m, in \u001b[36mcreate_acceptance_certificate_marketplace_async\u001b[39m\u001b[34m()\u001b[39m\n\u001b[32m    231\u001b[39m doc_list_data = []\n\u001b[32m    233\u001b[39m \u001b[38;5;28;01mfor\u001b[39;00m account, token \u001b[38;5;129;01min\u001b[39;00m tokens.items():\n\u001b[32m    234\u001b[39m     \u001b[38;5;66;03m# Получаем документы для 'act-income-mp'\u001b[39;00m\n\u001b[32m--> \u001b[39m\u001b[32m235\u001b[39m     result_mp = \u001b[38;5;28;01mawait\u001b[39;00m documents_list_async(token, \u001b[33m'\u001b[39m\u001b[33mact-income-mp\u001b[39m\u001b[33m'\u001b[39m)\n\u001b[32m    236\u001b[39m     \u001b[38;5;28;01mif\u001b[39;00m result_mp \u001b[38;5;129;01mis\u001b[39;00m \u001b[38;5;129;01mnot\u001b[39;00m \u001b[38;5;28;01mNone\u001b[39;00m \u001b[38;5;129;01mand\u001b[39;00m \u001b[38;5;129;01mnot\u001b[39;00m result_mp.empty:\n\u001b[32m    237\u001b[39m         result_mp[\u001b[33m'\u001b[39m\u001b[33maccount\u001b[39m\u001b[33m'\u001b[39m] = account\n",
      "\u001b[36mFile \u001b[39m\u001b[32mc:\\Users\\123\\Desktop\\warehouse_service\\acceptance_acts\\act_utils.py:91\u001b[39m, in \u001b[36mdocuments_list_async\u001b[39m\u001b[34m(token, title, days_back)\u001b[39m\n\u001b[32m     89\u001b[39m     \u001b[38;5;28mprint\u001b[39m(\u001b[33mf\u001b[39m\u001b[33m\"\u001b[39m\u001b[33mПолучено \u001b[39m\u001b[38;5;132;01m{\u001b[39;00m\u001b[38;5;28mlen\u001b[39m(all_documents)\u001b[38;5;132;01m}\u001b[39;00m\u001b[33m документов, offset: \u001b[39m\u001b[38;5;132;01m{\u001b[39;00moffset\u001b[38;5;132;01m}\u001b[39;00m\u001b[33m\"\u001b[39m)\n\u001b[32m     90\u001b[39m     offset += limit\n\u001b[32m---> \u001b[39m\u001b[32m91\u001b[39m     \u001b[38;5;28;01mawait\u001b[39;00m asyncio.sleep(\u001b[32m10\u001b[39m)\n\u001b[32m     92\u001b[39m \u001b[38;5;28;01melse\u001b[39;00m:\n\u001b[32m     93\u001b[39m     \u001b[38;5;28mprint\u001b[39m(\u001b[33mf\u001b[39m\u001b[33m\"\u001b[39m\u001b[33mОшибка \u001b[39m\u001b[38;5;132;01m{\u001b[39;00mres.status\u001b[38;5;132;01m}\u001b[39;00m\u001b[33m\"\u001b[39m)\n",
      "\u001b[36mFile \u001b[39m\u001b[32mC:\\Program Files\\WindowsApps\\PythonSoftwareFoundation.Python.3.11_3.11.2544.0_x64__qbz5n2kfra8p0\\Lib\\asyncio\\tasks.py:649\u001b[39m, in \u001b[36msleep\u001b[39m\u001b[34m(delay, result)\u001b[39m\n\u001b[32m    645\u001b[39m h = loop.call_later(delay,\n\u001b[32m    646\u001b[39m                     futures._set_result_unless_cancelled,\n\u001b[32m    647\u001b[39m                     future, result)\n\u001b[32m    648\u001b[39m \u001b[38;5;28;01mtry\u001b[39;00m:\n\u001b[32m--> \u001b[39m\u001b[32m649\u001b[39m     \u001b[38;5;28;01mreturn\u001b[39;00m \u001b[38;5;28;01mawait\u001b[39;00m future\n\u001b[32m    650\u001b[39m \u001b[38;5;28;01mfinally\u001b[39;00m:\n\u001b[32m    651\u001b[39m     h.cancel()\n",
      "\u001b[31mCancelledError\u001b[39m: "
     ]
    }
   ],
   "source": [
    "from act_utils import main\n",
    "\n",
    "if __name__ == \"__main__\":\n",
    "    await main()"
   ]
  },
  {
   "cell_type": "code",
   "execution_count": null,
   "id": "c717b0cf",
   "metadata": {},
   "outputs": [],
   "source": []
  }
 ],
 "metadata": {
  "kernelspec": {
   "display_name": "warehouse_venv (3.11.9)",
   "language": "python",
   "name": "python3"
  },
  "language_info": {
   "codemirror_mode": {
    "name": "ipython",
    "version": 3
   },
   "file_extension": ".py",
   "mimetype": "text/x-python",
   "name": "python",
   "nbconvert_exporter": "python",
   "pygments_lexer": "ipython3",
   "version": "3.11.9"
  }
 },
 "nbformat": 4,
 "nbformat_minor": 5
}
